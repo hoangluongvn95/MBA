{
 "cells": [
  {
   "cell_type": "code",
   "execution_count": 125,
   "metadata": {},
   "outputs": [],
   "source": [
    "import requests\n",
    "import pandas as pd\n",
    "from bs4 import BeautifulSoup\n",
    "import urllib.request\n",
    "import seaborn as sns\n",
    "import matplotlib.pyplot as plt"
   ]
  },
  {
   "cell_type": "markdown",
   "metadata": {},
   "source": [
    "## U.S. News' Top MBA Ranking"
   ]
  },
  {
   "cell_type": "markdown",
   "metadata": {},
   "source": [
    "A career in business starts with finding the MBA program that fits your needs. "
   ]
  },
  {
   "cell_type": "code",
   "execution_count": 126,
   "metadata": {},
   "outputs": [],
   "source": [
    "## Web scraping the list of top 100 B-schools from Wikipedia page since U.S. News forbids users from scraping data on their website.\n",
    "\n",
    "top_100_url = 'https://en.wikipedia.org/wiki/List_of_United_States_graduate_business_school_rankings'\n",
    "top_100_page = urllib.request.urlopen(top_100_url)\n",
    "top_100_soup = BeautifulSoup(top_100_page, \"lxml\")"
   ]
  },
  {
   "cell_type": "code",
   "execution_count": 127,
   "metadata": {},
   "outputs": [],
   "source": [
    "## Looking for the table with the class 'wikitable' that we need to extract\n",
    "\n",
    "top_100_tables=top_100_soup.find_all(\"table\")[1]"
   ]
  },
  {
   "cell_type": "code",
   "execution_count": 128,
   "metadata": {},
   "outputs": [],
   "source": [
    "## Extracting the columns and their relevant information\n",
    "\n",
    "rowValList = []\n",
    "\n",
    "for i in range(len(top_100_tables.find_all('td'))):\n",
    "    rowVal = top_100_tables.find_all('td')[i].get_text()\n",
    "    rowValList.append(rowVal)\n",
    "    \n",
    "rowValList = [w.replace('\\n', '') for w in rowValList]"
   ]
  },
  {
   "cell_type": "code",
   "execution_count": 129,
   "metadata": {},
   "outputs": [],
   "source": [
    "## Selecting the B-schools and its parent universities as well as the locations\n",
    "\n",
    "Business_School = []\n",
    "for i in range(0, len(rowValList), 12):\n",
    "    Business_School.append(rowValList[i])\n",
    "    \n",
    "University = []\n",
    "for i in range(1, len(rowValList), 12):\n",
    "    University.append(rowValList[i])\n",
    "    \n",
    "Location = []\n",
    "for i in range(2, len(rowValList), 12):\n",
    "    Location.append(rowValList[i])\n",
    "    \n",
    "USN_Ranking = []\n",
    "for i in range(3, len(rowValList), 12):\n",
    "    USN_Ranking.append(rowValList[i])"
   ]
  },
  {
   "cell_type": "code",
   "execution_count": 130,
   "metadata": {},
   "outputs": [],
   "source": [
    "## Passing along the variables to a new dataframe\n",
    "top_100_df = pd.DataFrame()\n",
    "top_100_df['Business School'] = Business_School\n",
    "top_100_df['University'] = University\n",
    "top_100_df['Location'] = Location\n",
    "top_100_df['USNews'] = USN_Ranking\n",
    "\n",
    "## Removing the B-schools ranked '99-131' and 'NR' for not ranked\n",
    "top_100_df = top_100_df[(top_100_df.USNews != '99-131') & (top_100_df.USNews != 'NR')]\n",
    "\n",
    "## Changing column's data type in order to sort the table by index\n",
    "top_100_df['Ranking'] = top_100_df['USNews'].astype({'USNews':'int64'})\n",
    "top_100_df.drop('USNews', axis=1, inplace=True)\n",
    "top_100_df.set_index('Ranking', inplace=True)\n",
    "top_100_df.sort_index(inplace=True)\n",
    "\n",
    "## Creating 'City' and 'State' columns\n",
    "top_100_df[['State','City']]= top_100_df['Location'].str.split(\",\", expand = True) \n",
    "top_100_df.drop('Location', axis=1, inplace=True)"
   ]
  },
  {
   "cell_type": "code",
   "execution_count": 131,
   "metadata": {},
   "outputs": [
    {
     "data": {
      "text/html": [
       "<div>\n",
       "<style scoped>\n",
       "    .dataframe tbody tr th:only-of-type {\n",
       "        vertical-align: middle;\n",
       "    }\n",
       "\n",
       "    .dataframe tbody tr th {\n",
       "        vertical-align: top;\n",
       "    }\n",
       "\n",
       "    .dataframe thead th {\n",
       "        text-align: right;\n",
       "    }\n",
       "</style>\n",
       "<table border=\"1\" class=\"dataframe\">\n",
       "  <thead>\n",
       "    <tr style=\"text-align: right;\">\n",
       "      <th></th>\n",
       "      <th>Business School</th>\n",
       "      <th>University</th>\n",
       "      <th>State</th>\n",
       "      <th>City</th>\n",
       "    </tr>\n",
       "    <tr>\n",
       "      <th>Ranking</th>\n",
       "      <th></th>\n",
       "      <th></th>\n",
       "      <th></th>\n",
       "      <th></th>\n",
       "    </tr>\n",
       "  </thead>\n",
       "  <tbody>\n",
       "    <tr>\n",
       "      <td>1</td>\n",
       "      <td>The Wharton School</td>\n",
       "      <td>University of Pennsylvania</td>\n",
       "      <td>Pennsylvania</td>\n",
       "      <td>Philadelphia</td>\n",
       "    </tr>\n",
       "    <tr>\n",
       "      <td>2</td>\n",
       "      <td>Stanford Graduate School of Business</td>\n",
       "      <td>Stanford University</td>\n",
       "      <td>California</td>\n",
       "      <td>Stanford</td>\n",
       "    </tr>\n",
       "    <tr>\n",
       "      <td>3</td>\n",
       "      <td>Harvard Business School</td>\n",
       "      <td>Harvard University</td>\n",
       "      <td>Massachusetts</td>\n",
       "      <td>Boston</td>\n",
       "    </tr>\n",
       "    <tr>\n",
       "      <td>3</td>\n",
       "      <td>MIT Sloan School of Management</td>\n",
       "      <td>Massachusetts Institute of Technology</td>\n",
       "      <td>Massachusetts</td>\n",
       "      <td>Cambridge</td>\n",
       "    </tr>\n",
       "    <tr>\n",
       "      <td>3</td>\n",
       "      <td>Booth School of Business</td>\n",
       "      <td>University of Chicago</td>\n",
       "      <td>Illinois</td>\n",
       "      <td>Chicago</td>\n",
       "    </tr>\n",
       "    <tr>\n",
       "      <td>6</td>\n",
       "      <td>Kellogg School of Management</td>\n",
       "      <td>Northwestern University</td>\n",
       "      <td>Illinois</td>\n",
       "      <td>Evanston</td>\n",
       "    </tr>\n",
       "    <tr>\n",
       "      <td>6</td>\n",
       "      <td>Columbia Business School</td>\n",
       "      <td>Columbia University</td>\n",
       "      <td>New York</td>\n",
       "      <td>New York City</td>\n",
       "    </tr>\n",
       "    <tr>\n",
       "      <td>6</td>\n",
       "      <td>Haas School of Business</td>\n",
       "      <td>University of California, Berkeley</td>\n",
       "      <td>California</td>\n",
       "      <td>Berkeley</td>\n",
       "    </tr>\n",
       "    <tr>\n",
       "      <td>9</td>\n",
       "      <td>Yale School of Management</td>\n",
       "      <td>Yale University</td>\n",
       "      <td>Connecticut</td>\n",
       "      <td>New Haven</td>\n",
       "    </tr>\n",
       "    <tr>\n",
       "      <td>10</td>\n",
       "      <td>Ross School of Business</td>\n",
       "      <td>University of Michigan</td>\n",
       "      <td>Michigan</td>\n",
       "      <td>Ann Arbor</td>\n",
       "    </tr>\n",
       "  </tbody>\n",
       "</table>\n",
       "</div>"
      ],
      "text/plain": [
       "                              Business School  \\\n",
       "Ranking                                         \n",
       "1                          The Wharton School   \n",
       "2        Stanford Graduate School of Business   \n",
       "3                     Harvard Business School   \n",
       "3              MIT Sloan School of Management   \n",
       "3                    Booth School of Business   \n",
       "6                Kellogg School of Management   \n",
       "6                    Columbia Business School   \n",
       "6                     Haas School of Business   \n",
       "9                   Yale School of Management   \n",
       "10                    Ross School of Business   \n",
       "\n",
       "                                    University          State            City  \n",
       "Ranking                                                                        \n",
       "1                   University of Pennsylvania   Pennsylvania    Philadelphia  \n",
       "2                          Stanford University     California        Stanford  \n",
       "3                           Harvard University  Massachusetts          Boston  \n",
       "3        Massachusetts Institute of Technology  Massachusetts       Cambridge  \n",
       "3                        University of Chicago       Illinois         Chicago  \n",
       "6                      Northwestern University       Illinois        Evanston  \n",
       "6                          Columbia University       New York   New York City  \n",
       "6           University of California, Berkeley     California        Berkeley  \n",
       "9                              Yale University    Connecticut       New Haven  \n",
       "10                      University of Michigan       Michigan       Ann Arbor  "
      ]
     },
     "execution_count": 131,
     "metadata": {},
     "output_type": "execute_result"
    }
   ],
   "source": [
    "## Top 10 MBA programs\n",
    "\n",
    "top_100_df.head(10)"
   ]
  },
  {
   "cell_type": "code",
   "execution_count": 132,
   "metadata": {},
   "outputs": [
    {
     "data": {
      "image/png": "[encoded data removed]",
      "text/plain": [
       "<Figure size 1080x576 with 1 Axes>"
      ]
     },
     "metadata": {
      "needs_background": "light"
     },
     "output_type": "display_data"
    }
   ],
   "source": [
    "## Top states with the most ranked B-schools\n",
    "\n",
    "plt.figure(figsize=(15,8))\n",
    "\n",
    "top_state = sns.countplot(y='State', data=top_100_df, order = top_100_df['State'].value_counts().index)\n"
   ]
  },
  {
   "cell_type": "markdown",
   "metadata": {},
   "source": [
    "## Top 50 B-schools with details"
   ]
  },
  {
   "cell_type": "code",
   "execution_count": 142,
   "metadata": {},
   "outputs": [],
   "source": [
    "top_50_url = 'https://gmatclub.com/forum/all-school-stats-in-one-place-166143.html'\n",
    "top_50_page = urllib.request.urlopen(top_50_url)\n",
    "top_50_soup = BeautifulSoup(top_50_page, \"lxml\")"
   ]
  },
  {
   "cell_type": "code",
   "execution_count": 143,
   "metadata": {},
   "outputs": [],
   "source": [
    "top_50_table=top_50_soup.find('table', class_='stoker')"
   ]
  },
  {
   "cell_type": "code",
   "execution_count": 144,
   "metadata": {},
   "outputs": [],
   "source": [
    "rowValList1 = []\n",
    "\n",
    "for i in range(len(top_50_table.find_all('td'))):\n",
    "    rowVal1 = top_50_table.find_all('td')[i].get_text()\n",
    "    rowValList1.append(rowVal1)\n",
    "    \n",
    "rowValList1.remove('Top US Business Schools: Class Profiles and Comparison')"
   ]
  },
  {
   "cell_type": "code",
   "execution_count": 152,
   "metadata": {},
   "outputs": [],
   "source": [
    "USNewsRank = []\n",
    "for i in range(0, len(rowValList1), 10):\n",
    "    USNewsRank.append(rowValList1[i])\n",
    "    \n",
    "School = []\n",
    "for i in range(1, len(rowValList1), 10):\n",
    "    School.append(rowValList1[i])\n",
    "    \n",
    "ClassSize = []\n",
    "for i in range(2, len(rowValList1), 10):\n",
    "    ClassSize.append(rowValList1[i])\n",
    "    \n",
    "AcceptanceRate = []\n",
    "for i in range(3, len(rowValList1), 10):\n",
    "    AcceptanceRate.append(rowValList1[i])\n",
    "\n",
    "AvgGMAT = []\n",
    "for i in range(4, len(rowValList1), 10):\n",
    "    AvgGMAT.append(rowValList1[i])\n",
    "\n",
    "AvgGRE = []\n",
    "for i in range(5, len(rowValList1), 10):\n",
    "    AvgGRE.append(rowValList1[i])\n",
    "\n",
    "AvgAge = []\n",
    "for i in range(6, len(rowValList1), 10):\n",
    "    AvgAge.append(rowValList1[i])\n",
    "    \n",
    "AvgGPA = []\n",
    "for i in range(7, len(rowValList1), 10):\n",
    "    AvgGPA.append(rowValList1[i])\n",
    "    \n",
    "Employment3 = []\n",
    "for i in range(8, len(rowValList1), 10):\n",
    "    Employment3.append(rowValList1[i])\n",
    "    \n",
    "AvgSalary = []\n",
    "for i in range(9, len(rowValList1), 10):\n",
    "    AvgSalary.append(rowValList1[i])"
   ]
  },
  {
   "cell_type": "code",
   "execution_count": 153,
   "metadata": {},
   "outputs": [],
   "source": [
    "top_50_df = pd.DataFrame()\n",
    "\n",
    "top_50_df['School'] = School\n",
    "top_50_df['US News Rank'] = USNewsRank\n",
    "top_50_df['Class Size'] = ClassSize\n",
    "top_50_df['Acceptance Rate'] = AcceptanceRate\n",
    "top_50_df['Avg GMAT'] = AvgGMAT\n",
    "top_50_df['Avg GRE'] = AvgGRE\n",
    "top_50_df['AvgAge'] = AvgAge\n",
    "top_50_df['Avg GPA'] = AvgGPA\n",
    "top_50_df['Employed @ 3 Months'] = Employment3\n",
    "\n",
    "top_50_df.drop(top_50_df.index[0], inplace=True)\n",
    "top_50_df.reset_index(drop=True, inplace=True)\n",
    "top_50_df.set_index('US News Rank', inplace=True)"
   ]
  },
  {
   "cell_type": "markdown",
   "metadata": {},
   "source": [
    "They’re called the M7 business schools, the most elite and prestigious list of full-time MBA experiences in the world. Here are the Magnificent 7 MBA programs:"
   ]
  },
  {
   "cell_type": "code",
   "execution_count": 154,
   "metadata": {},
   "outputs": [
    {
     "data": {
      "text/html": [
       "<div>\n",
       "<style scoped>\n",
       "    .dataframe tbody tr th:only-of-type {\n",
       "        vertical-align: middle;\n",
       "    }\n",
       "\n",
       "    .dataframe tbody tr th {\n",
       "        vertical-align: top;\n",
       "    }\n",
       "\n",
       "    .dataframe thead th {\n",
       "        text-align: right;\n",
       "    }\n",
       "</style>\n",
       "<table border=\"1\" class=\"dataframe\">\n",
       "  <thead>\n",
       "    <tr style=\"text-align: right;\">\n",
       "      <th></th>\n",
       "      <th>School</th>\n",
       "      <th>Class Size</th>\n",
       "      <th>Acceptance Rate</th>\n",
       "      <th>Avg GMAT</th>\n",
       "      <th>Avg GRE</th>\n",
       "      <th>AvgAge</th>\n",
       "      <th>Avg GPA</th>\n",
       "      <th>Employed @ 3 Months</th>\n",
       "    </tr>\n",
       "    <tr>\n",
       "      <th>US News Rank</th>\n",
       "      <th></th>\n",
       "      <th></th>\n",
       "      <th></th>\n",
       "      <th></th>\n",
       "      <th></th>\n",
       "      <th></th>\n",
       "      <th></th>\n",
       "      <th></th>\n",
       "    </tr>\n",
       "  </thead>\n",
       "  <tbody>\n",
       "    <tr>\n",
       "      <td>1</td>\n",
       "      <td>Wharton</td>\n",
       "      <td>862</td>\n",
       "      <td>21%</td>\n",
       "      <td>732</td>\n",
       "      <td>N/A</td>\n",
       "      <td>28</td>\n",
       "      <td>3.6</td>\n",
       "      <td>95%</td>\n",
       "    </tr>\n",
       "    <tr>\n",
       "      <td>2</td>\n",
       "      <td>Stanford</td>\n",
       "      <td>419</td>\n",
       "      <td>6%</td>\n",
       "      <td>732</td>\n",
       "      <td>165V, 165Q</td>\n",
       "      <td>N/A</td>\n",
       "      <td>3.73</td>\n",
       "      <td>88%</td>\n",
       "    </tr>\n",
       "    <tr>\n",
       "      <td>3</td>\n",
       "      <td>Harvard</td>\n",
       "      <td>930</td>\n",
       "      <td>10%</td>\n",
       "      <td>731</td>\n",
       "      <td>165V, 163Q</td>\n",
       "      <td>27</td>\n",
       "      <td>3.71</td>\n",
       "      <td>89%</td>\n",
       "    </tr>\n",
       "    <tr>\n",
       "      <td>3</td>\n",
       "      <td>MIT Sloan</td>\n",
       "      <td>409</td>\n",
       "      <td>13%</td>\n",
       "      <td>728</td>\n",
       "      <td>N/A</td>\n",
       "      <td>28</td>\n",
       "      <td>3.57</td>\n",
       "      <td>94%</td>\n",
       "    </tr>\n",
       "    <tr>\n",
       "      <td>3</td>\n",
       "      <td>Booth</td>\n",
       "      <td>591</td>\n",
       "      <td>23%</td>\n",
       "      <td>731</td>\n",
       "      <td>N/A</td>\n",
       "      <td>28</td>\n",
       "      <td>3.58</td>\n",
       "      <td>88%</td>\n",
       "    </tr>\n",
       "    <tr>\n",
       "      <td>6</td>\n",
       "      <td>Columbia</td>\n",
       "      <td>552</td>\n",
       "      <td>15%</td>\n",
       "      <td>736</td>\n",
       "      <td>N/A</td>\n",
       "      <td>28</td>\n",
       "      <td>3.6</td>\n",
       "      <td>90%</td>\n",
       "    </tr>\n",
       "    <tr>\n",
       "      <td>6</td>\n",
       "      <td>Kellogg</td>\n",
       "      <td>478</td>\n",
       "      <td>22%</td>\n",
       "      <td>732</td>\n",
       "      <td>N/A</td>\n",
       "      <td>28</td>\n",
       "      <td>3.6</td>\n",
       "      <td>92%</td>\n",
       "    </tr>\n",
       "  </tbody>\n",
       "</table>\n",
       "</div>"
      ],
      "text/plain": [
       "                 School Class Size Acceptance Rate Avg GMAT     Avg GRE  \\\n",
       "US News Rank                                                              \n",
       "1               Wharton        862             21%      732         N/A   \n",
       "2              Stanford        419              6%      732  165V, 165Q   \n",
       "3               Harvard        930             10%      731  165V, 163Q   \n",
       "3             MIT Sloan        409             13%      728         N/A   \n",
       "3                 Booth        591             23%      731         N/A   \n",
       "6              Columbia        552             15%      736         N/A   \n",
       "6               Kellogg        478             22%      732         N/A   \n",
       "\n",
       "             AvgAge Avg GPA Employed @ 3 Months  \n",
       "US News Rank                                     \n",
       "1                28     3.6                 95%  \n",
       "2               N/A    3.73                 88%  \n",
       "3                27    3.71                 89%  \n",
       "3                28    3.57                 94%  \n",
       "3                28    3.58                 88%  \n",
       "6                28     3.6                 90%  \n",
       "6                28     3.6                 92%  "
      ]
     },
     "execution_count": 154,
     "metadata": {},
     "output_type": "execute_result"
    }
   ],
   "source": [
    "top_50_df.head(7)"
   ]
  },
  {
   "cell_type": "code",
   "execution_count": 155,
   "metadata": {},
   "outputs": [],
   "source": [
    "## Changing data types for 'Class Size' and 'Acceptance Rate' only since other variables remain relatively the same.\n",
    "\n",
    "# Class Size\n",
    "top_50_df['Class Size'] = top_50_df['Class Size'].astype({'Class Size':'int64'})\n",
    "\n",
    "# Acceptance Rate\n",
    "top_50_df['Acceptance Rate'] = top_50_df['Acceptance Rate'].str.replace('%','')\n",
    "top_50_df['Acceptance Rate'] = top_50_df['Acceptance Rate'].astype({'Acceptance Rate':'int64'})\n"
   ]
  },
  {
   "cell_type": "code",
   "execution_count": 156,
   "metadata": {},
   "outputs": [
    {
     "data": {
      "text/plain": [
       "<matplotlib.axes._subplots.AxesSubplot at 0x1a26c12990>"
      ]
     },
     "execution_count": 156,
     "metadata": {},
     "output_type": "execute_result"
    },
    {
     "data": {
      "image/png": "[encoded data removed]",
      "text/plain": [
       "<Figure size 432x288 with 1 Axes>"
      ]
     },
     "metadata": {
      "needs_background": "light"
     },
     "output_type": "display_data"
    }
   ],
   "source": [
    "top_10_size = top_50_df[['School', 'Class Size']].sort_values('Class Size', ascending=False).head(10)\n",
    "sns.barplot(x='Class Size', y='School', data=top_10_size)"
   ]
  },
  {
   "cell_type": "code",
   "execution_count": 157,
   "metadata": {},
   "outputs": [
    {
     "data": {
      "text/plain": [
       "<matplotlib.axes._subplots.AxesSubplot at 0x1a26d46310>"
      ]
     },
     "execution_count": 157,
     "metadata": {},
     "output_type": "execute_result"
    },
    {
     "data": {
      "image/png": "[encoded data removed]",
      "text/plain": [
       "<Figure size 432x288 with 1 Axes>"
      ]
     },
     "metadata": {
      "needs_background": "light"
     },
     "output_type": "display_data"
    }
   ],
   "source": [
    "top_10_rate = top_50_df[['School', 'Acceptance Rate']].sort_values('Acceptance Rate').head(10)\n",
    "sns.barplot(x='Acceptance Rate', y='School', data=top_10_rate)"
   ]
  }
 ],
 "metadata": {
  "kernelspec": {
   "display_name": "Python 3",
   "language": "python",
   "name": "python3"
  },
  "language_info": {
   "codemirror_mode": {
    "name": "ipython",
    "version": 3
   },
   "file_extension": ".py",
   "mimetype": "text/x-python",
   "name": "python",
   "nbconvert_exporter": "python",
   "pygments_lexer": "ipython3",
   "version": "3.7.4"
  }
 },
 "nbformat": 4,
 "nbformat_minor": 2
}
